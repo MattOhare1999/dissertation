{
  "nbformat": 4,
  "nbformat_minor": 0,
  "metadata": {
    "colab": {
      "name": "DataEvaluation.ipynb",
      "provenance": [],
      "collapsed_sections": [],
      "machine_shape": "hm"
    },
    "kernelspec": {
      "name": "python3",
      "display_name": "Python 3"
    },
    "accelerator": "GPU"
  },
  "cells": [
    {
      "cell_type": "markdown",
      "metadata": {
        "id": "eyPM43b13qLj",
        "colab_type": "text"
      },
      "source": [
        "Import Data"
      ]
    },
    {
      "cell_type": "code",
      "metadata": {
        "id": "s3PP88YQ8L4x",
        "colab_type": "code",
        "colab": {}
      },
      "source": [
        "# imports\n",
        "import io\n",
        "import sys\n",
        "import pandas as pd\n",
        "import numpy as np\n",
        "from google.colab import drive\n",
        "from google.colab import files\n",
        "from collections import defaultdict\n",
        "from IPython.display import display"
      ],
      "execution_count": 0,
      "outputs": []
    },
    {
      "cell_type": "code",
      "metadata": {
        "id": "hw9J0lIMOzyj",
        "colab_type": "code",
        "colab": {}
      },
      "source": [
        "# mount google drive\n",
        "def mount():\n",
        "  drive.mount('/content/gdrive')"
      ],
      "execution_count": 0,
      "outputs": []
    },
    {
      "cell_type": "code",
      "metadata": {
        "id": "zQG0vqyiNmg3",
        "colab_type": "code",
        "colab": {}
      },
      "source": [
        "# upload file\n",
        "def upload():\n",
        "  uploaded = files.upload()\n",
        "  return uploaded"
      ],
      "execution_count": 0,
      "outputs": []
    },
    {
      "cell_type": "code",
      "metadata": {
        "id": "b8CgJPy63C2T",
        "colab_type": "code",
        "colab": {}
      },
      "source": [
        "# read csv file\n",
        "def read_csv(uploaded):\n",
        "  data = pd.read_csv(io.BytesIO(uploaded['user_launches_appAnon.csv']))\n",
        "  return data"
      ],
      "execution_count": 0,
      "outputs": []
    },
    {
      "cell_type": "markdown",
      "metadata": {
        "id": "oJy2yP5_311q",
        "colab_type": "text"
      },
      "source": [
        "Sort Data"
      ]
    },
    {
      "cell_type": "code",
      "metadata": {
        "id": "FLe5ERXdMJCi",
        "colab_type": "code",
        "colab": {}
      },
      "source": [
        "# sort data by user id and app id\n",
        "def sort_data(data):\n",
        "  user_sorted = data.sort_values([\"userID\", \"appID\"], ascending=[True, True])\n",
        "  user_sorted.head()\n",
        "  return data"
      ],
      "execution_count": 0,
      "outputs": []
    },
    {
      "cell_type": "markdown",
      "metadata": {
        "id": "5bf6Nl3C4Bob",
        "colab_type": "text"
      },
      "source": [
        "Number of unique and actual list of unique values in each column"
      ]
    },
    {
      "cell_type": "code",
      "metadata": {
        "id": "U8bPTLhIwxq9",
        "colab_type": "code",
        "colab": {}
      },
      "source": [
        "# get number of and actual list of unique values in each column\n",
        "def unique_apps_users(user_sorted):\n",
        "  user_sorted[\"userID\"].value_counts() #10,368\n",
        "  user_sorted[\"appID\"].value_counts() # 45,788\n",
        "\n",
        "  unique_apps = user_sorted[\"appID\"].unique()\n",
        "  unique_apps.sort()\n",
        "\n",
        "  unique_users = user_sorted[\"userID\"].unique()\n",
        "\n",
        "  return unique_apps, unique_users"
      ],
      "execution_count": 0,
      "outputs": []
    },
    {
      "cell_type": "markdown",
      "metadata": {
        "id": "9VYFdjPW3-vB",
        "colab_type": "text"
      },
      "source": [
        "Get Features"
      ]
    },
    {
      "cell_type": "code",
      "metadata": {
        "id": "-Bcq3PJ3Ujum",
        "colab_type": "code",
        "colab": {}
      },
      "source": [
        "# get features of the raw data\n",
        "def show_sorted(user_sorted):\n",
        "  print(\"User sorted features: \")\n",
        "  display(user_sorted.describe())\n",
        "  #display(user_sorted.boxplot())\n",
        "  #display(user_sorted.plot.hist())"
      ],
      "execution_count": 0,
      "outputs": []
    },
    {
      "cell_type": "markdown",
      "metadata": {
        "id": "G9mYa5ds4Y8g",
        "colab_type": "text"
      },
      "source": [
        "Create dict of users and apps"
      ]
    },
    {
      "cell_type": "code",
      "metadata": {
        "id": "0MJsM0_hT3EQ",
        "colab_type": "code",
        "colab": {}
      },
      "source": [
        "# iterate through each row and add each occurrence to dictionary, this will return a dict\n",
        "# that has each user with the list of apps they have used\n",
        "def get_user_apps(user_sorted):\n",
        "  user_apps = defaultdict(list)\n",
        "\n",
        "  for index, row in user_sorted.iterrows():\n",
        "    user_apps[row[\"userID\"]].append(row[\"appID\"])\n",
        "\n",
        "  user_apps = dict(user_apps)\n",
        "\n",
        "  print(\"User apps: \", user_apps)\n",
        "  print(\" \")\n",
        "  return user_apps"
      ],
      "execution_count": 0,
      "outputs": []
    },
    {
      "cell_type": "markdown",
      "metadata": {
        "id": "xOQYmLmD4dPx",
        "colab_type": "text"
      },
      "source": [
        "Create dict of apps and users"
      ]
    },
    {
      "cell_type": "code",
      "metadata": {
        "id": "14k9QyFZ3FY6",
        "colab_type": "code",
        "colab": {}
      },
      "source": [
        "# iterate through each row and add each occurrence to dictionary, this will return a dict\n",
        "# that has each app with the list users that have used it\n",
        "# currently keys not in order\n",
        "def get_app_users(user_sorted):\n",
        "  app_users = defaultdict(list)\n",
        "\n",
        "  for index, row in user_sorted.iterrows():\n",
        "    app_users[row[\"appID\"]].append(row[\"userID\"])\n",
        "\n",
        "  app_users = dict(app_users)\n",
        "\n",
        "  print(\"App users: \", app_users)\n",
        "  print(\" \")\n",
        "  return app_users"
      ],
      "execution_count": 0,
      "outputs": []
    },
    {
      "cell_type": "markdown",
      "metadata": {
        "id": "WvQ_2rEa4mBs",
        "colab_type": "text"
      },
      "source": [
        "Code for mapping dict to dataframe"
      ]
    },
    {
      "cell_type": "code",
      "metadata": {
        "id": "F2ExYehhXS6x",
        "colab_type": "code",
        "colab": {}
      },
      "source": [
        "#create a sparse data frame showing whether each user has used an app before\n",
        "def create_df(user_apps, unique_apps, unique_users):\n",
        "  user_apps_DF = pd.DataFrame(columns=unique_apps, index=unique_users)\n",
        "  user_apps_DF = user_apps_DF.fillna(0)\n",
        "\n",
        "  for key, value in user_apps.items():\n",
        "    for entry in value:\n",
        "      user_apps_DF.at[key, entry] = 1\n",
        "\n",
        "  return user_apps_DF"
      ],
      "execution_count": 0,
      "outputs": []
    },
    {
      "cell_type": "markdown",
      "metadata": {
        "id": "cPoxwqw0f4er",
        "colab_type": "text"
      },
      "source": [
        "Saving Dataframe (only need when new columns are added)"
      ]
    },
    {
      "cell_type": "code",
      "metadata": {
        "id": "Bo6os3ruJcWo",
        "colab_type": "code",
        "colab": {}
      },
      "source": [
        "# convert dataframe to csv \n",
        "def convert_to_csv(user_apps_DF):\n",
        "  user_apps_DF.to_csv('sparse_dataframe.csv')"
      ],
      "execution_count": 0,
      "outputs": []
    },
    {
      "cell_type": "markdown",
      "metadata": {
        "id": "F0RTP_L1vAiV",
        "colab_type": "text"
      },
      "source": [
        "Get counts of each app, convert to dataframe and plot\n"
      ]
    },
    {
      "cell_type": "code",
      "metadata": {
        "id": "TI4OP7gfwEWX",
        "colab_type": "code",
        "colab": {}
      },
      "source": [
        "# there are 10367 users that do not use app 259\n",
        "# user_apps_DF[259].value_counts()[0]"
      ],
      "execution_count": 0,
      "outputs": []
    },
    {
      "cell_type": "code",
      "metadata": {
        "id": "a1fwIUaH2ugy",
        "colab_type": "code",
        "colab": {}
      },
      "source": [
        "# iterate through each app and count how many occurences there are where a 1 is in its column\n",
        "def get_app_counts(user_apps_DF, unique_apps):\n",
        "\n",
        "  app_counts = {}\n",
        "\n",
        "  for entry in unique_apps:\n",
        "    app_counts[entry] = user_apps_DF[entry].value_counts()[1]\n",
        "\n",
        "  print(\"App counts: \", app_counts)\n",
        "  print(\" \")\n",
        "\n",
        "  return app_counts"
      ],
      "execution_count": 0,
      "outputs": []
    },
    {
      "cell_type": "code",
      "metadata": {
        "id": "mGHuhCVfhGRP",
        "colab_type": "code",
        "colab": {}
      },
      "source": [
        "# convert app counts to a dataframe (need to change column names and reset index to make it readable)\n",
        "def convert_counts_to_df(app_counts):\n",
        "  app_counts_DF = pd.DataFrame(list(app_counts.items()), columns=['appID', 'count'])\n",
        "  app_counts_DF.sort_values('count', ascending=False, inplace=True)\n",
        "  app_counts_DF.reset_index(drop=True, inplace=True)\n",
        "\n",
        "  print(\"App counts\")\n",
        "  display(app_counts_DF)\n",
        "  print(\" \")\n",
        "\n",
        "  return app_counts_DF"
      ],
      "execution_count": 0,
      "outputs": []
    },
    {
      "cell_type": "code",
      "metadata": {
        "id": "wkRsVitx1U1-",
        "colab_type": "code",
        "colab": {}
      },
      "source": [
        "# show app counts in various ways\n",
        "def show_app_counts(app_counts_DF):\n",
        "  # app_counts_DF['count'].iloc[:10].sum()\n",
        "  print(\"App counts boxplot: \")\n",
        "  display(app_counts_DF.boxplot())\n",
        "  print(\"App counts scatter: \")\n",
        "  display(app_counts_DF.iloc[:1000].plot.scatter(x='appID', y='count'))\n",
        "  print(\"App counts bar graph: \")\n",
        "  display(app_counts_DF.iloc[:50].plot.bar(x='appID', y='count'))\n"
      ],
      "execution_count": 0,
      "outputs": []
    },
    {
      "cell_type": "markdown",
      "metadata": {
        "id": "4IAXlhnwo1Q-",
        "colab_type": "text"
      },
      "source": [
        "Group apps by count"
      ]
    },
    {
      "cell_type": "code",
      "metadata": {
        "id": "GkMMQmKNhYas",
        "colab_type": "code",
        "colab": {}
      },
      "source": [
        "# group apps together by their counts, showing how many instances there are of each count occurence\n",
        "def group_apps(app_counts_DF):\n",
        "  grouped_apps = app_counts_DF.groupby(['count']).count()\n",
        "  grouped_apps.reset_index(inplace=True)\n",
        "  grouped_apps.rename(columns={'count':'user_count', 'appID':'count'}, inplace=True)\n",
        "\n",
        "  return grouped_apps"
      ],
      "execution_count": 0,
      "outputs": []
    },
    {
      "cell_type": "code",
      "metadata": {
        "id": "thppy7zboqBR",
        "colab_type": "code",
        "colab": {}
      },
      "source": [
        "# show grouped apps\n",
        "def show_grouped_apps(grouped_apps):\n",
        "  #grouped_apps['count'].iloc[50:].sum()\n",
        "  print(\"Grouped apps bar graph: \")\n",
        "  display(grouped_apps.iloc[50:].plot.bar(x='user_count', y='count'))"
      ],
      "execution_count": 0,
      "outputs": []
    },
    {
      "cell_type": "code",
      "metadata": {
        "id": "Xe_MowGZMH-o",
        "colab_type": "code",
        "colab": {}
      },
      "source": [
        ""
      ],
      "execution_count": 0,
      "outputs": []
    },
    {
      "cell_type": "code",
      "metadata": {
        "id": "CfPR9qupFEcQ",
        "colab_type": "code",
        "colab": {}
      },
      "source": [
        "# setup functions to import and save data\n",
        "def setup():\n",
        "  imports()\n",
        "  uploaded = upload()\n",
        "  data = read_csv(uploaded)\n",
        "\n",
        "  return data"
      ],
      "execution_count": 0,
      "outputs": []
    },
    {
      "cell_type": "code",
      "metadata": {
        "id": "DZ3U_TYK1j3P",
        "colab_type": "code",
        "colab": {}
      },
      "source": [
        "# main functions to sort and analyse data\n",
        "def main(data):\n",
        "  user_sorted = sort_data(data)\n",
        "  unique_apps, unique_users = unique_apps_users(user_sorted)\n",
        "  show_sorted(user_sorted)\n",
        "  user_apps = get_user_apps(user_sorted)\n",
        "  app_users = get_app_users(user_sorted)\n",
        "  user_apps_DF = create_df(user_apps, unique_apps, unique_users)\n",
        "  #convert_to_csv(user_apps_DF)\n",
        "  app_counts = get_app_counts(user_apps_DF, unique_apps)\n",
        "  app_counts_DF = convert_counts_to_df(app_counts)\n",
        "  show_app_counts(app_counts_DF)\n",
        "  grouped_apps = group_apps(app_counts_DF)\n",
        "\n",
        "  return app_counts_DF"
      ],
      "execution_count": 0,
      "outputs": []
    },
    {
      "cell_type": "code",
      "metadata": {
        "id": "jdrJsILH229s",
        "colab_type": "code",
        "colab": {}
      },
      "source": [
        "# call funtions \n",
        "data = setup()\n",
        "app_counts_DF = main(data)"
      ],
      "execution_count": 0,
      "outputs": []
    },
    {
      "cell_type": "code",
      "metadata": {
        "id": "QxIPZWaIhEjj",
        "colab_type": "code",
        "colab": {}
      },
      "source": [
        "# temp location to try new things\n",
        "from scipy.spatial.distance import pdist, squareform\n",
        "\n",
        "distances = pdist(app_counts_DF.values, metric='euclidean')\n",
        "dist_matrix = squareform(distances)"
      ],
      "execution_count": 0,
      "outputs": []
    },
    {
      "cell_type": "code",
      "metadata": {
        "id": "wU-V-6Ol4qbJ",
        "colab_type": "code",
        "colab": {}
      },
      "source": [
        "np.set_printoptions(threshold=sys.maxsize)"
      ],
      "execution_count": 0,
      "outputs": []
    },
    {
      "cell_type": "code",
      "metadata": {
        "id": "R4OPKSsvjpQ2",
        "colab_type": "code",
        "colab": {}
      },
      "source": [
        "dist_matrix"
      ],
      "execution_count": 0,
      "outputs": []
    },
    {
      "cell_type": "code",
      "metadata": {
        "id": "sFZE04sLjpNv",
        "colab_type": "code",
        "colab": {}
      },
      "source": [
        ""
      ],
      "execution_count": 0,
      "outputs": []
    },
    {
      "cell_type": "code",
      "metadata": {
        "id": "Gs_8TlhNjpKh",
        "colab_type": "code",
        "colab": {}
      },
      "source": [
        ""
      ],
      "execution_count": 0,
      "outputs": []
    },
    {
      "cell_type": "markdown",
      "metadata": {
        "id": "vwzcua5t4gZA",
        "colab_type": "text"
      },
      "source": [
        "Old Tester code for mapping dict to dataframe"
      ]
    },
    {
      "cell_type": "code",
      "metadata": {
        "id": "yjpl2jYC9L9e",
        "colab_type": "code",
        "colab": {}
      },
      "source": [
        "# # test code with a small subset of the data\n",
        "# unique_apps_temp = unique_apps[:260]\n",
        "# unique_users_temp = unique_users[:500]\n",
        "\n",
        "# user_apps_temp = {}\n",
        "# i = 0\n",
        "\n",
        "# for key, value in user_apps.items():\n",
        "#   if i < 10:\n",
        "#     user_apps_temp[key] = value\n",
        "#     i +=1 \n",
        "#   else:\n",
        "#     break\n",
        "\n",
        "\n",
        "# print(user_apps_temp)"
      ],
      "execution_count": 0,
      "outputs": []
    },
    {
      "cell_type": "code",
      "metadata": {
        "id": "bJ_5sv1L-Hsz",
        "colab_type": "code",
        "colab": {}
      },
      "source": [
        "# user_temp_DF = pd.DataFrame(columns=unique_apps_temp, index=unique_users_temp)\n",
        "# user_temp_DF.fillna(0, inplace=True)\n",
        "\n",
        "# for key, value in user_apps_temp.items():\n",
        "#   for entry in value:\n",
        "#     user_temp_DF.at[key, entry] = 1\n"
      ],
      "execution_count": 0,
      "outputs": []
    }
  ]
}